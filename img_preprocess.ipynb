{
  "nbformat": 4,
  "nbformat_minor": 0,
  "metadata": {
    "colab": {
      "provenance": []
    },
    "kernelspec": {
      "name": "python3",
      "display_name": "Python 3"
    },
    "language_info": {
      "name": "python"
    }
  },
  "cells": [
    {
      "cell_type": "code",
      "execution_count": null,
      "metadata": {
        "colab": {
          "base_uri": "https://localhost:8080/",
          "height": 106
        },
        "id": "AMFKRPoaVkXZ",
        "outputId": "fd2ede72-0130-4410-933d-7f7726746d87"
      },
      "outputs": [
        {
          "output_type": "error",
          "ename": "SyntaxError",
          "evalue": "incomplete input (<ipython-input-1-2a9cebc82614>, line 24)",
          "traceback": [
            "\u001b[0;36m  File \u001b[0;32m\"<ipython-input-1-2a9cebc82614>\"\u001b[0;36m, line \u001b[0;32m24\u001b[0m\n\u001b[0;31m    print(\"Min:\",pic.min()\u001b[0m\n\u001b[0m                          ^\u001b[0m\n\u001b[0;31mSyntaxError\u001b[0m\u001b[0;31m:\u001b[0m incomplete input\n"
          ]
        }
      ],
      "source": [
        "import cv2\n",
        "import numpy as np\n",
        "import matplotlib.pyplot as plt\n",
        "pic=cv2.imread(r\"images.jpg\")\n",
        "plt.imshow(pic)\n",
        "pic=cv2.imread(r\"images.jpg\",cv2.IMREAD_GRAYSCALE)\n",
        "plt.imshow(pic)\n",
        "flip_pic=np.flipud(pic)\n",
        "plt.imshow(flip_pic,cmap='gray')\n",
        "from scipy import ndimage\n",
        "rot_pic=ndimage.rotate(pic,45)\n",
        "plt.imshow(rot_pic,cmap='gray')\n",
        "gauss_pic=ndimage.gaussian_filter(pic,5)\n",
        "plt.imshow(gauss_pic,cmap='gray')\n",
        "pic2=255-pic\n",
        "cv2.imshow(\"Negative image\",pic2)\n",
        "pic.shape[0:2]\n",
        "pixels = pic[100,100]\n",
        "print(pixels)\n",
        "print (pic. shape)\n",
        "print (pic. size)\n",
        "print(\"Mean:\",pic.mean())\n",
        "print(\"Max:\",pic.max())\n",
        "print(\"Min:\",pic.min())"
      ]
    }
  ]
}